{
  "nbformat": 4,
  "nbformat_minor": 0,
  "metadata": {
    "colab": {
      "private_outputs": true,
      "provenance": [],
      "authorship_tag": "ABX9TyMIX3FKVclM4BtKlvh3qS3I",
      "include_colab_link": true
    },
    "kernelspec": {
      "name": "python3",
      "display_name": "Python 3"
    },
    "language_info": {
      "name": "python"
    },
    "accelerator": "GPU",
    "gpuClass": "standard"
  },
  "cells": [
    {
      "cell_type": "markdown",
      "metadata": {
        "id": "view-in-github",
        "colab_type": "text"
      },
      "source": [
        "<a href=\"https://colab.research.google.com/github/ankithaldar/tsai_eva8_assignments/blob/assign_3_fix/eva8_phase01/assignment_3/colab_edit/Assignement_3.ipynb\" target=\"_parent\"><img src=\"https://colab.research.google.com/assets/colab-badge.svg\" alt=\"Open In Colab\"/></a>"
      ]
    },
    {
      "cell_type": "markdown",
      "source": [
        "# TSAI EVA 8 - Phase 1\n",
        "## Assignment 3 [Part 2]"
      ],
      "metadata": {
        "id": "R0tEr3bCGQbY"
      }
    },
    {
      "cell_type": "markdown",
      "source": [
        "## 0.Imports"
      ],
      "metadata": {
        "id": "Zm5WwhjkGN0I"
      }
    },
    {
      "cell_type": "code",
      "source": [
        "import torch\n",
        "import torchvision\n",
        "import torchvision.transforms as transforms\n",
        "from matplotlib import pyplot as plt\n",
        "import numpy as np"
      ],
      "metadata": {
        "id": "t6NaH80cGOdq"
      },
      "execution_count": null,
      "outputs": []
    },
    {
      "cell_type": "markdown",
      "source": [
        "## 1. EDA"
      ],
      "metadata": {
        "id": "ckMdPb-UGUcm"
      }
    },
    {
      "cell_type": "markdown",
      "source": [
        "Downloading MNIST dataset and creating dataloader for EDA"
      ],
      "metadata": {
        "id": "9d_6wo3ZGVst"
      }
    },
    {
      "cell_type": "code",
      "source": [
        "train_loader = torch.utils.data.DataLoader(\n",
        "  dataset=torchvision.datasets.MNIST(\n",
        "    root='./data',\n",
        "    train=True,\n",
        "    download=True,\n",
        "    transform=transforms.Compose([\n",
        "      transforms.ToTensor()\n",
        "    ])\n",
        "  ),\n",
        "  batch_size=128,\n",
        "  shuffle=True\n",
        ")\n",
        "\n",
        "batch = next(iter(train_loader))\n",
        "images, labels = batch\n",
        "grid = torchvision.utils.make_grid(images, nrow=16)\n",
        "plt.figure(figsize=(30, 30))\n",
        "plt.imshow(np.transpose(grid, (1, 2, 0)))\n",
        "print('labels:', labels)\n"
      ],
      "metadata": {
        "id": "SdkSjkcRGgfN"
      },
      "execution_count": null,
      "outputs": []
    },
    {
      "cell_type": "markdown",
      "source": [
        "## 2. Model Training & Testing"
      ],
      "metadata": {
        "id": "9NWbm8N7GaD0"
      }
    },
    {
      "cell_type": "code",
      "source": [
        "%%bash\n",
        "\n",
        "cd /content/\n",
        "\n",
        "# Delete in directory exists\n",
        "if [ -d working ]; then\n",
        "    rm -rf working\n",
        "fi\n",
        "\n",
        "MOVE_TO_BRANCH='assign_3'\n",
        "\n",
        "# create a working folder\n",
        "mkdir -p /content/working\n",
        "\n",
        "# move to working folder\n",
        "cd /content/working\n",
        "\n",
        "git clone https://github.com/ankithaldar/tsai_eva8_assignments.git\n",
        "\n",
        "# get into kaggle git repo\n",
        "cd ./tsai_eva8_assignments\n",
        "\n",
        "# more to another branch\n",
        "git checkout -b $MOVE_TO_BRANCH refs/remotes/origin/$MOVE_TO_BRANCH"
      ],
      "metadata": {
        "id": "GmPu9fkuGiOW"
      },
      "execution_count": null,
      "outputs": []
    },
    {
      "cell_type": "code",
      "source": [
        "%%bash\n",
        "pip install -r /content/working/tsai_eva8_assignments/eva8_phase01/assignment_3/colab_edit/requirements.txt"
      ],
      "metadata": {
        "id": "w0_tpxSQGlwd"
      },
      "execution_count": null,
      "outputs": []
    },
    {
      "cell_type": "code",
      "source": [
        "%cd /content/working/tsai_eva8_assignments/eva8_phase01/assignment_3/colab_edit/src/\n",
        "%load_ext autoreload\n",
        "%autoreload 2"
      ],
      "metadata": {
        "id": "aOsPeyCzGr2J"
      },
      "execution_count": null,
      "outputs": []
    },
    {
      "cell_type": "code",
      "source": [
        "!python train.py --params_yml \"./config_params/test_model_a.yml\""
      ],
      "metadata": {
        "id": "iMcr5vgMGwB7"
      },
      "execution_count": null,
      "outputs": []
    }
  ]
}